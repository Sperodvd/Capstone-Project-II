{
 "cells": [
  {
   "cell_type": "code",
   "execution_count": 1,
   "metadata": {},
   "outputs": [
    {
     "name": "stderr",
     "output_type": "stream",
     "text": [
      "Using TensorFlow backend.\n"
     ]
    }
   ],
   "source": [
    "import tensorflow as tf\n",
    "import pandas as pd\n",
    "import numpy as np\n",
    "import matplotlib.pyplot as plt\n",
    "import seaborn as sns\n",
    "import keras\n",
    "\n",
    "from sklearn.model_selection import train_test_split\n",
    "from sklearn.metrics import confusion_matrix, accuracy_score, classification_report\n",
    "from keras.utils import to_categorical\n",
    "from keras.models import Sequential\n",
    "from keras.layers import Dense, Conv2D, MaxPooling2D, Flatten, Dropout\n",
    "from keras.preprocessing.image import ImageDataGenerator\n",
    "from keras.callbacks import ReduceLROnPlateau"
   ]
  },
  {
   "cell_type": "code",
   "execution_count": 2,
   "metadata": {},
   "outputs": [],
   "source": [
    "train_df = pd.read_csv(r\"C:/Users/dongh/Desktop/Springboard/Capstone-Project-II/data/sign_mnist_train/sign_mnist_train.csv\")"
   ]
  },
  {
   "cell_type": "code",
   "execution_count": 3,
   "metadata": {},
   "outputs": [],
   "source": [
    "test_df = pd.read_csv(r\"C:/Users/dongh/Desktop/Springboard/Capstone-Project-II/data/sign_mnist_test/sign_mnist_test.csv\")"
   ]
  },
  {
   "cell_type": "code",
   "execution_count": 4,
   "metadata": {},
   "outputs": [
    {
     "data": {
      "text/plain": [
       "(27455, 785)"
      ]
     },
     "execution_count": 4,
     "metadata": {},
     "output_type": "execute_result"
    }
   ],
   "source": [
    "train_df.shape"
   ]
  },
  {
   "cell_type": "code",
   "execution_count": 5,
   "metadata": {},
   "outputs": [
    {
     "data": {
      "text/plain": [
       "(7172, 785)"
      ]
     },
     "execution_count": 5,
     "metadata": {},
     "output_type": "execute_result"
    }
   ],
   "source": [
    "test_df.shape"
   ]
  },
  {
   "cell_type": "code",
   "execution_count": 6,
   "metadata": {},
   "outputs": [
    {
     "data": {
      "text/html": [
       "<div>\n",
       "<style scoped>\n",
       "    .dataframe tbody tr th:only-of-type {\n",
       "        vertical-align: middle;\n",
       "    }\n",
       "\n",
       "    .dataframe tbody tr th {\n",
       "        vertical-align: top;\n",
       "    }\n",
       "\n",
       "    .dataframe thead th {\n",
       "        text-align: right;\n",
       "    }\n",
       "</style>\n",
       "<table border=\"1\" class=\"dataframe\">\n",
       "  <thead>\n",
       "    <tr style=\"text-align: right;\">\n",
       "      <th></th>\n",
       "      <th>label</th>\n",
       "      <th>pixel1</th>\n",
       "      <th>pixel2</th>\n",
       "      <th>pixel3</th>\n",
       "      <th>pixel4</th>\n",
       "      <th>pixel5</th>\n",
       "      <th>pixel6</th>\n",
       "      <th>pixel7</th>\n",
       "      <th>pixel8</th>\n",
       "      <th>pixel9</th>\n",
       "      <th>...</th>\n",
       "      <th>pixel775</th>\n",
       "      <th>pixel776</th>\n",
       "      <th>pixel777</th>\n",
       "      <th>pixel778</th>\n",
       "      <th>pixel779</th>\n",
       "      <th>pixel780</th>\n",
       "      <th>pixel781</th>\n",
       "      <th>pixel782</th>\n",
       "      <th>pixel783</th>\n",
       "      <th>pixel784</th>\n",
       "    </tr>\n",
       "  </thead>\n",
       "  <tbody>\n",
       "    <tr>\n",
       "      <th>0</th>\n",
       "      <td>3</td>\n",
       "      <td>107</td>\n",
       "      <td>118</td>\n",
       "      <td>127</td>\n",
       "      <td>134</td>\n",
       "      <td>139</td>\n",
       "      <td>143</td>\n",
       "      <td>146</td>\n",
       "      <td>150</td>\n",
       "      <td>153</td>\n",
       "      <td>...</td>\n",
       "      <td>207</td>\n",
       "      <td>207</td>\n",
       "      <td>207</td>\n",
       "      <td>207</td>\n",
       "      <td>206</td>\n",
       "      <td>206</td>\n",
       "      <td>206</td>\n",
       "      <td>204</td>\n",
       "      <td>203</td>\n",
       "      <td>202</td>\n",
       "    </tr>\n",
       "    <tr>\n",
       "      <th>1</th>\n",
       "      <td>6</td>\n",
       "      <td>155</td>\n",
       "      <td>157</td>\n",
       "      <td>156</td>\n",
       "      <td>156</td>\n",
       "      <td>156</td>\n",
       "      <td>157</td>\n",
       "      <td>156</td>\n",
       "      <td>158</td>\n",
       "      <td>158</td>\n",
       "      <td>...</td>\n",
       "      <td>69</td>\n",
       "      <td>149</td>\n",
       "      <td>128</td>\n",
       "      <td>87</td>\n",
       "      <td>94</td>\n",
       "      <td>163</td>\n",
       "      <td>175</td>\n",
       "      <td>103</td>\n",
       "      <td>135</td>\n",
       "      <td>149</td>\n",
       "    </tr>\n",
       "    <tr>\n",
       "      <th>2</th>\n",
       "      <td>2</td>\n",
       "      <td>187</td>\n",
       "      <td>188</td>\n",
       "      <td>188</td>\n",
       "      <td>187</td>\n",
       "      <td>187</td>\n",
       "      <td>186</td>\n",
       "      <td>187</td>\n",
       "      <td>188</td>\n",
       "      <td>187</td>\n",
       "      <td>...</td>\n",
       "      <td>202</td>\n",
       "      <td>201</td>\n",
       "      <td>200</td>\n",
       "      <td>199</td>\n",
       "      <td>198</td>\n",
       "      <td>199</td>\n",
       "      <td>198</td>\n",
       "      <td>195</td>\n",
       "      <td>194</td>\n",
       "      <td>195</td>\n",
       "    </tr>\n",
       "    <tr>\n",
       "      <th>3</th>\n",
       "      <td>2</td>\n",
       "      <td>211</td>\n",
       "      <td>211</td>\n",
       "      <td>212</td>\n",
       "      <td>212</td>\n",
       "      <td>211</td>\n",
       "      <td>210</td>\n",
       "      <td>211</td>\n",
       "      <td>210</td>\n",
       "      <td>210</td>\n",
       "      <td>...</td>\n",
       "      <td>235</td>\n",
       "      <td>234</td>\n",
       "      <td>233</td>\n",
       "      <td>231</td>\n",
       "      <td>230</td>\n",
       "      <td>226</td>\n",
       "      <td>225</td>\n",
       "      <td>222</td>\n",
       "      <td>229</td>\n",
       "      <td>163</td>\n",
       "    </tr>\n",
       "    <tr>\n",
       "      <th>4</th>\n",
       "      <td>13</td>\n",
       "      <td>164</td>\n",
       "      <td>167</td>\n",
       "      <td>170</td>\n",
       "      <td>172</td>\n",
       "      <td>176</td>\n",
       "      <td>179</td>\n",
       "      <td>180</td>\n",
       "      <td>184</td>\n",
       "      <td>185</td>\n",
       "      <td>...</td>\n",
       "      <td>92</td>\n",
       "      <td>105</td>\n",
       "      <td>105</td>\n",
       "      <td>108</td>\n",
       "      <td>133</td>\n",
       "      <td>163</td>\n",
       "      <td>157</td>\n",
       "      <td>163</td>\n",
       "      <td>164</td>\n",
       "      <td>179</td>\n",
       "    </tr>\n",
       "  </tbody>\n",
       "</table>\n",
       "<p>5 rows × 785 columns</p>\n",
       "</div>"
      ],
      "text/plain": [
       "   label  pixel1  pixel2  pixel3  pixel4  pixel5  pixel6  pixel7  pixel8  \\\n",
       "0      3     107     118     127     134     139     143     146     150   \n",
       "1      6     155     157     156     156     156     157     156     158   \n",
       "2      2     187     188     188     187     187     186     187     188   \n",
       "3      2     211     211     212     212     211     210     211     210   \n",
       "4     13     164     167     170     172     176     179     180     184   \n",
       "\n",
       "   pixel9  ...  pixel775  pixel776  pixel777  pixel778  pixel779  pixel780  \\\n",
       "0     153  ...       207       207       207       207       206       206   \n",
       "1     158  ...        69       149       128        87        94       163   \n",
       "2     187  ...       202       201       200       199       198       199   \n",
       "3     210  ...       235       234       233       231       230       226   \n",
       "4     185  ...        92       105       105       108       133       163   \n",
       "\n",
       "   pixel781  pixel782  pixel783  pixel784  \n",
       "0       206       204       203       202  \n",
       "1       175       103       135       149  \n",
       "2       198       195       194       195  \n",
       "3       225       222       229       163  \n",
       "4       157       163       164       179  \n",
       "\n",
       "[5 rows x 785 columns]"
      ]
     },
     "execution_count": 6,
     "metadata": {},
     "output_type": "execute_result"
    }
   ],
   "source": [
    "train_df.head()"
   ]
  },
  {
   "cell_type": "code",
   "execution_count": 7,
   "metadata": {},
   "outputs": [],
   "source": [
    "train_y = train_df['label']\n",
    "test_y = test_df['label']\n",
    "train_x = train_df.drop(['label'],axis=1)\n",
    "test_x = test_df.drop(['label'],axis=1)"
   ]
  },
  {
   "cell_type": "code",
   "execution_count": 8,
   "metadata": {},
   "outputs": [
    {
     "name": "stdout",
     "output_type": "stream",
     "text": [
      "[ 0  1  2  3  4  5  6  7  8 10 11 12 13 14 15 16 17 18 19 20 21 22 23 24]\n"
     ]
    }
   ],
   "source": [
    "labels_list = train_y.unique()\n",
    "labels_list = np.sort(labels_list)\n",
    "print(labels_list)"
   ]
  },
  {
   "cell_type": "code",
   "execution_count": 9,
   "metadata": {},
   "outputs": [],
   "source": [
    "X_train = train_x.values.reshape(-1, 28, 28, 1)\n",
    "X_test = test_x.values.reshape(-1, 28, 28, 1)\n",
    "\n",
    "'''\n",
    "y_train = to_categorical(train_y, num_classes=25)\n",
    "y_test = to_categorical(test_y, num_classes=25)\n",
    "''''''"
   ]
  },
  {
   "cell_type": "code",
   "execution_count": 10,
   "metadata": {},
   "outputs": [
    {
     "name": "stdout",
     "output_type": "stream",
     "text": [
      "(27455, 28, 28, 1)\n",
      "(27455, 25)\n"
     ]
    }
   ],
   "source": [
    "print(X_train.shape)\n",
    "print(y_train.shape)"
   ]
  },
  {
   "cell_type": "code",
   "execution_count": 11,
   "metadata": {},
   "outputs": [],
   "source": [
    "X_train, X_validate, Y_train, Y_validate = train_test_split(X_train, train_y, test_size= 0.2, random_state=42)"
   ]
  },
  {
   "cell_type": "code",
   "execution_count": 12,
   "metadata": {},
   "outputs": [
    {
     "name": "stdout",
     "output_type": "stream",
     "text": [
      "(21964, 28, 28, 1)\n",
      "(5491, 28, 28, 1)\n",
      "(21964,)\n",
      "(5491,)\n"
     ]
    }
   ],
   "source": [
    "print(X_train.shape)\n",
    "print(X_validate.shape)\n",
    "print(Y_train.shape)\n",
    "print(Y_validate.shape)"
   ]
  },
  {
   "cell_type": "code",
   "execution_count": 13,
   "metadata": {},
   "outputs": [],
   "source": [
    "alphabet = 'ABCDEFGHIJKLMNOPQRSTUVWXYZ'\n",
    "letters = {}\n",
    "\n",
    "for i,j in enumerate(alphabet):\n",
    "    letters[j] = i\n",
    "letters = {x:y for y,x in letters.items()}"
   ]
  },
  {
   "cell_type": "code",
   "execution_count": 14,
   "metadata": {},
   "outputs": [],
   "source": [
    "def show_images(images, labels):\n",
    "    fig, ax=plt.subplots(2,5)\n",
    "    fig.set_size_inches(10,6)\n",
    "    k=0\n",
    "    for i in range(2):\n",
    "        for j in range(5):\n",
    "            ax[i,j].imshow(images[k], cmap='gray')\n",
    "            ax[i,j].set_title(letters[labels[k]])\n",
    "            k=k+1;\n",
    "        plt.tight_layout()"
   ]
  },
  {
   "cell_type": "code",
   "execution_count": 15,
   "metadata": {},
   "outputs": [
    {
     "data": {
      "image/png": "[encoded data removed]",
      "text/plain": [
       "<Figure size 720x432 with 10 Axes>"
      ]
     },
     "metadata": {
      "needs_background": "light"
     },
     "output_type": "display_data"
    }
   ],
   "source": [
    "show_images(X_train, train_y)"
   ]
  },
  {
   "cell_type": "code",
   "execution_count": 16,
   "metadata": {},
   "outputs": [
    {
     "data": {
      "image/png": "[encoded data removed]",
      "text/plain": [
       "<Figure size 720x432 with 10 Axes>"
      ]
     },
     "metadata": {
      "needs_background": "light"
     },
     "output_type": "display_data"
    }
   ],
   "source": [
    "show_images(X_test, test_y)"
   ]
  },
  {
   "cell_type": "code",
   "execution_count": 17,
   "metadata": {},
   "outputs": [
    {
     "data": {
      "text/plain": [
       "<AxesSubplot:xlabel='label', ylabel='count'>"
      ]
     },
     "execution_count": 17,
     "metadata": {},
     "output_type": "execute_result"
    },
    {
     "data": {
      "image/png": "[encoded data removed]",
      "text/plain": [
       "<Figure size 1080x576 with 1 Axes>"
      ]
     },
     "metadata": {
      "needs_background": "light"
     },
     "output_type": "display_data"
    }
   ],
   "source": [
    "plt.figure(figsize=(15,8))\n",
    "sns.set_style('whitegrid')\n",
    "sns.countplot(x='label', data=train_df, palette='Set3')"
   ]
  },
  {
   "cell_type": "code",
   "execution_count": 18,
   "metadata": {},
   "outputs": [],
   "source": [
    "train_datagen1 = ImageDataGenerator(rescale=1/255, rotation_range=20, zoom_range=0.2, height_shift_range=0.2, width_shift_range=0.2,\n",
    "                    horizontal_flip=True)\n",
    "valid_datagen1 = ImageDataGenerator(rescale=1/255)\n",
    "test_datagen1 = ImageDataGenerator(rescale=1/255)"
   ]
  },
  {
   "cell_type": "code",
   "execution_count": 19,
   "metadata": {},
   "outputs": [
    {
     "name": "stdout",
     "output_type": "stream",
     "text": [
      "Model: \"sequential_1\"\n",
      "_________________________________________________________________\n",
      "Layer (type)                 Output Shape              Param #   \n",
      "=================================================================\n",
      "conv2d_1 (Conv2D)            (None, 26, 26, 32)        320       \n",
      "_________________________________________________________________\n",
      "max_pooling2d_1 (MaxPooling2 (None, 13, 13, 32)        0         \n",
      "_________________________________________________________________\n",
      "conv2d_2 (Conv2D)            (None, 11, 11, 64)        18496     \n",
      "_________________________________________________________________\n",
      "max_pooling2d_2 (MaxPooling2 (None, 3, 3, 64)          0         \n",
      "_________________________________________________________________\n",
      "flatten_1 (Flatten)          (None, 576)               0         \n",
      "_________________________________________________________________\n",
      "dense_1 (Dense)              (None, 64)                36928     \n",
      "_________________________________________________________________\n",
      "dense_2 (Dense)              (None, 25)                1625      \n",
      "=================================================================\n",
      "Total params: 57,369\n",
      "Trainable params: 57,369\n",
      "Non-trainable params: 0\n",
      "_________________________________________________________________\n"
     ]
    }
   ],
   "source": [
    "model1 = Sequential()\n",
    "model1.add(Conv2D(filters=32, kernel_size=(3,3),\n",
    "                activation ='relu', input_shape=(28,28,1)))\n",
    "model1.add(MaxPooling2D(pool_size=(2,2)))\n",
    "\n",
    "model1.add(Conv2D(filters=64, kernel_size=(3,3),\n",
    "                activation ='relu'))\n",
    "model1.add(MaxPooling2D(pool_size=(3,3)))\n",
    "\n",
    "model1.add(Flatten())\n",
    "model1.add(Dense(64, activation='relu'))\n",
    "model1.add(Dense(25, activation='softmax'))\n",
    "\n",
    "model1.compile(loss='sparse_categorical_crossentropy',\n",
    "             optimizer='adam',\n",
    "             metrics=['accuracy'])\n",
    "model1.summary()"
   ]
  },
  {
   "cell_type": "code",
   "execution_count": 20,
   "metadata": {
    "scrolled": true
   },
   "outputs": [
    {
     "name": "stdout",
     "output_type": "stream",
     "text": [
      "Epoch 1/20\n",
      "687/687 [==============================] - 19s 27ms/step - loss: 3.0171 - accuracy: 0.0950 - val_loss: 2.6308 - val_accuracy: 0.2577\n",
      "Epoch 2/20\n",
      "687/687 [==============================] - 19s 28ms/step - loss: 2.3859 - accuracy: 0.2538 - val_loss: 2.3424 - val_accuracy: 0.4039\n",
      "Epoch 3/20\n",
      "687/687 [==============================] - 19s 27ms/step - loss: 2.0341 - accuracy: 0.3536 - val_loss: 1.6028 - val_accuracy: 0.4180\n",
      "Epoch 4/20\n",
      "687/687 [==============================] - 19s 27ms/step - loss: 1.8284 - accuracy: 0.4198 - val_loss: 0.9335 - val_accuracy: 0.5580\n",
      "Epoch 5/20\n",
      "687/687 [==============================] - 18s 26ms/step - loss: 1.6702 - accuracy: 0.4642 - val_loss: 1.0927 - val_accuracy: 0.6815\n",
      "Epoch 6/20\n",
      "687/687 [==============================] - 18s 26ms/step - loss: 1.5454 - accuracy: 0.5013 - val_loss: 1.1668 - val_accuracy: 0.6653\n",
      "Epoch 7/20\n",
      "687/687 [==============================] - 18s 26ms/step - loss: 1.4456 - accuracy: 0.5292 - val_loss: 0.8995 - val_accuracy: 0.7159\n",
      "Epoch 8/20\n",
      "687/687 [==============================] - 18s 26ms/step - loss: 1.3724 - accuracy: 0.5524 - val_loss: 0.6244 - val_accuracy: 0.7685\n",
      "Epoch 9/20\n",
      "687/687 [==============================] - 18s 26ms/step - loss: 1.2981 - accuracy: 0.5802 - val_loss: 0.4703 - val_accuracy: 0.7806\n",
      "Epoch 10/20\n",
      "687/687 [==============================] - 18s 26ms/step - loss: 1.2318 - accuracy: 0.5980 - val_loss: 0.5962 - val_accuracy: 0.7907\n",
      "Epoch 11/20\n",
      "687/687 [==============================] - 18s 26ms/step - loss: 1.1763 - accuracy: 0.6171 - val_loss: 0.2514 - val_accuracy: 0.8219\n",
      "Epoch 12/20\n",
      "687/687 [==============================] - 18s 27ms/step - loss: 1.1404 - accuracy: 0.6292 - val_loss: 0.7891 - val_accuracy: 0.8186\n",
      "Epoch 13/20\n",
      "687/687 [==============================] - 18s 26ms/step - loss: 1.0833 - accuracy: 0.6436 - val_loss: 0.3809 - val_accuracy: 0.8190\n",
      "Epoch 14/20\n",
      "687/687 [==============================] - 19s 27ms/step - loss: 1.0426 - accuracy: 0.6545 - val_loss: 0.3992 - val_accuracy: 0.8204\n",
      "Epoch 15/20\n",
      "687/687 [==============================] - 18s 27ms/step - loss: 1.0084 - accuracy: 0.6661 - val_loss: 0.5262 - val_accuracy: 0.8377\n",
      "Epoch 16/20\n",
      "687/687 [==============================] - 18s 27ms/step - loss: 0.9782 - accuracy: 0.6753 - val_loss: 0.8025 - val_accuracy: 0.7997\n",
      "Epoch 17/20\n",
      "687/687 [==============================] - 18s 27ms/step - loss: 0.9509 - accuracy: 0.6854 - val_loss: 0.1167 - val_accuracy: 0.8525\n",
      "Epoch 18/20\n",
      "687/687 [==============================] - 18s 27ms/step - loss: 0.9105 - accuracy: 0.6968 - val_loss: 0.6008 - val_accuracy: 0.8346\n",
      "Epoch 19/20\n",
      "687/687 [==============================] - 18s 27ms/step - loss: 0.8855 - accuracy: 0.7072 - val_loss: 0.2831 - val_accuracy: 0.8598\n",
      "Epoch 20/20\n",
      "687/687 [==============================] - 18s 26ms/step - loss: 0.8762 - accuracy: 0.7067 - val_loss: 0.2510 - val_accuracy: 0.8829\n"
     ]
    }
   ],
   "source": [
    "history = model1.fit(train_datagen1.flow(X_train, Y_train),\n",
    "                    epochs = 20,\n",
    "                    validation_data = valid_datagen1.flow(X_validate, Y_validate))"
   ]
  },
  {
   "cell_type": "code",
   "execution_count": 21,
   "metadata": {},
   "outputs": [
    {
     "data": {
      "image/png": "[encoded data removed]",
      "text/plain": [
       "<Figure size 720x720 with 2 Axes>"
      ]
     },
     "metadata": {},
     "output_type": "display_data"
    }
   ],
   "source": [
    "acc = history.history['accuracy']\n",
    "loss = history.history['loss']\n",
    "val_acc= history.history['val_accuracy']\n",
    "val_loss = history.history['val_loss']\n",
    "\n",
    "epochs = range(len(acc))\n",
    "\n",
    "plt.figure(figsize=(10,10))\n",
    "plt.subplot(2,2,1)\n",
    "plt.plot(epochs, acc, label='Training Accuracy')\n",
    "plt.plot(epochs, val_acc, label='Validation Accuracy')\n",
    "plt.legend(loc='lower right')\n",
    "plt.title('Training and Validation Accuracy')\n",
    "\n",
    "plt.subplot(2,2,2)\n",
    "plt.plot(epochs, loss, label='Training Loss')\n",
    "plt.plot(epochs, val_loss, label='Validation Loss')\n",
    "plt.legend(loc='upper right')\n",
    "plt.title('Training and Validation Loss')\n",
    "plt.show()"
   ]
  },
  {
   "cell_type": "code",
   "execution_count": 22,
   "metadata": {},
   "outputs": [
    {
     "name": "stdout",
     "output_type": "stream",
     "text": [
      "ERROR! Session/line number was not unique in database. History logging moved to new session 343\n",
      "58.54712771890686\n"
     ]
    }
   ],
   "source": [
    "pred1 = model1.predict(X_test)\n",
    "pred1 = np.argmax(pred1, axis=1)\n",
    "acc_score = accuracy_score(test_y, pred1)\n",
    "\n",
    "print(acc_score*100)"
   ]
  },
  {
   "cell_type": "code",
   "execution_count": 23,
   "metadata": {},
   "outputs": [],
   "source": [
    "train_datagen2 = ImageDataGenerator(\n",
    "                    featurewise_center=False, samplewise_center=False,\n",
    "                    featurewise_std_normalization=False, samplewise_std_normalization=False,zca_whitening=False, \n",
    "                    rescale=1/255, rotation_range=10, zoom_range=0.1, height_shift_range=0.1, width_shift_range=0.1,\n",
    "                    horizontal_flip=False, vertical_flip=False)\n",
    "valid_datagen2 = ImageDataGenerator(rescale=1/255)\n",
    "test_datagen2 = ImageDataGenerator(rescale=1/255)\n"
   ]
  },
  {
   "cell_type": "code",
   "execution_count": 24,
   "metadata": {},
   "outputs": [],
   "source": [
    "lr_reduction = ReduceLROnPlateau(monitor='val_accuracy', patience=2, verbose=1, factor=0.5, min_lr=0.00001)"
   ]
  },
  {
   "cell_type": "code",
   "execution_count": 25,
   "metadata": {},
   "outputs": [
    {
     "name": "stdout",
     "output_type": "stream",
     "text": [
      "Model: \"sequential_2\"\n",
      "_________________________________________________________________\n",
      "Layer (type)                 Output Shape              Param #   \n",
      "=================================================================\n",
      "conv2d_3 (Conv2D)            (None, 28, 28, 32)        320       \n",
      "_________________________________________________________________\n",
      "max_pooling2d_3 (MaxPooling2 (None, 14, 14, 32)        0         \n",
      "_________________________________________________________________\n",
      "dropout_1 (Dropout)          (None, 14, 14, 32)        0         \n",
      "_________________________________________________________________\n",
      "conv2d_4 (Conv2D)            (None, 14, 14, 64)        18496     \n",
      "_________________________________________________________________\n",
      "max_pooling2d_4 (MaxPooling2 (None, 4, 4, 64)          0         \n",
      "_________________________________________________________________\n",
      "dropout_2 (Dropout)          (None, 4, 4, 64)          0         \n",
      "_________________________________________________________________\n",
      "conv2d_5 (Conv2D)            (None, 4, 4, 128)         73856     \n",
      "_________________________________________________________________\n",
      "max_pooling2d_5 (MaxPooling2 (None, 1, 1, 128)         0         \n",
      "_________________________________________________________________\n",
      "dropout_3 (Dropout)          (None, 1, 1, 128)         0         \n",
      "_________________________________________________________________\n",
      "flatten_2 (Flatten)          (None, 128)               0         \n",
      "_________________________________________________________________\n",
      "dense_3 (Dense)              (None, 64)                8256      \n",
      "_________________________________________________________________\n",
      "dense_4 (Dense)              (None, 25)                1625      \n",
      "=================================================================\n",
      "Total params: 102,553\n",
      "Trainable params: 102,553\n",
      "Non-trainable params: 0\n",
      "_________________________________________________________________\n"
     ]
    }
   ],
   "source": [
    "model2 = Sequential()\n",
    "model2.add(Conv2D(filters=32, kernel_size=(3,3), padding='same',\n",
    "                activation ='relu', input_shape=(28,28,1)))\n",
    "model2.add(MaxPooling2D(pool_size=(2,2)))\n",
    "model2.add(Dropout(0.2))\n",
    "\n",
    "model2.add(Conv2D(filters=64, kernel_size=(3,3), padding='same',\n",
    "                activation ='relu'))\n",
    "model2.add(MaxPooling2D(pool_size=(3,3)))\n",
    "model2.add(Dropout(0.2))\n",
    "\n",
    "model2.add(Conv2D(filters=128, kernel_size=(3,3), padding='same',\n",
    "                activation ='relu'))\n",
    "model2.add(MaxPooling2D(pool_size=(3,3)))\n",
    "model2.add(Dropout(0.2))\n",
    "\n",
    "model2.add(Flatten())\n",
    "model2.add(Dense(64, activation='relu'))\n",
    "model2.add(Dense(25, activation='softmax'))\n",
    "\n",
    "model2.compile(loss='sparse_categorical_crossentropy',\n",
    "             optimizer='adam',\n",
    "             metrics=['accuracy'])\n",
    "model2.summary()\n"
   ]
  },
  {
   "cell_type": "code",
   "execution_count": 26,
   "metadata": {},
   "outputs": [
    {
     "name": "stdout",
     "output_type": "stream",
     "text": [
      "Epoch 1/20\n",
      "172/172 [==============================] - 30s 172ms/step - loss: 2.9880 - accuracy: 0.1005 - val_loss: 2.2607 - val_accuracy: 0.3253\n",
      "Epoch 2/20\n",
      "172/172 [==============================] - 29s 171ms/step - loss: 1.8171 - accuracy: 0.4085 - val_loss: 0.8933 - val_accuracy: 0.7347\n",
      "Epoch 3/20\n",
      "172/172 [==============================] - 29s 171ms/step - loss: 1.0964 - accuracy: 0.6293 - val_loss: 0.6064 - val_accuracy: 0.8479\n",
      "Epoch 4/20\n",
      "172/172 [==============================] - 29s 169ms/step - loss: 0.7986 - accuracy: 0.7254 - val_loss: 0.4719 - val_accuracy: 0.9057\n",
      "Epoch 5/20\n",
      "172/172 [==============================] - 28s 165ms/step - loss: 0.6271 - accuracy: 0.7889 - val_loss: 0.3044 - val_accuracy: 0.9425\n",
      "Epoch 6/20\n",
      "172/172 [==============================] - 29s 167ms/step - loss: 0.5238 - accuracy: 0.8201 - val_loss: 0.1660 - val_accuracy: 0.9568\n",
      "Epoch 7/20\n",
      "172/172 [==============================] - 29s 166ms/step - loss: 0.4488 - accuracy: 0.8465 - val_loss: 0.0639 - val_accuracy: 0.9740\n",
      "Epoch 8/20\n",
      "172/172 [==============================] - 28s 165ms/step - loss: 0.3948 - accuracy: 0.8645 - val_loss: 0.1235 - val_accuracy: 0.9771\n",
      "Epoch 9/20\n",
      "172/172 [==============================] - 28s 165ms/step - loss: 0.3473 - accuracy: 0.8809 - val_loss: 0.1520 - val_accuracy: 0.9756\n",
      "Epoch 10/20\n",
      "172/172 [==============================] - 28s 164ms/step - loss: 0.3058 - accuracy: 0.8959 - val_loss: 0.0197 - val_accuracy: 0.9934\n",
      "Epoch 11/20\n",
      "172/172 [==============================] - 29s 167ms/step - loss: 0.2773 - accuracy: 0.9042 - val_loss: 0.0157 - val_accuracy: 0.9885\n",
      "Epoch 12/20\n",
      "172/172 [==============================] - 29s 169ms/step - loss: 0.2543 - accuracy: 0.9134 - val_loss: 0.0243 - val_accuracy: 0.9913\n",
      "\n",
      "Epoch 00012: ReduceLROnPlateau reducing learning rate to 0.0005000000237487257.\n",
      "Epoch 13/20\n",
      "172/172 [==============================] - 29s 169ms/step - loss: 0.2173 - accuracy: 0.9250 - val_loss: 0.0126 - val_accuracy: 0.9929\n",
      "Epoch 14/20\n",
      "172/172 [==============================] - 31s 181ms/step - loss: 0.2093 - accuracy: 0.9273 - val_loss: 0.0262 - val_accuracy: 0.9933\n",
      "\n",
      "Epoch 00014: ReduceLROnPlateau reducing learning rate to 0.0002500000118743628.\n",
      "Epoch 15/20\n",
      "172/172 [==============================] - 29s 167ms/step - loss: 0.2027 - accuracy: 0.9312 - val_loss: 0.0103 - val_accuracy: 0.9967\n",
      "Epoch 16/20\n",
      "172/172 [==============================] - 29s 169ms/step - loss: 0.1909 - accuracy: 0.9346 - val_loss: 0.0811 - val_accuracy: 0.9967\n",
      "Epoch 17/20\n",
      "172/172 [==============================] - 29s 171ms/step - loss: 0.1917 - accuracy: 0.9367 - val_loss: 0.0100 - val_accuracy: 0.9978\n",
      "Epoch 18/20\n",
      "172/172 [==============================] - 31s 181ms/step - loss: 0.1809 - accuracy: 0.9392 - val_loss: 0.0098 - val_accuracy: 0.9964\n",
      "Epoch 19/20\n",
      "172/172 [==============================] - 32s 187ms/step - loss: 0.1778 - accuracy: 0.9411 - val_loss: 0.0152 - val_accuracy: 0.9960\n",
      "\n",
      "Epoch 00019: ReduceLROnPlateau reducing learning rate to 0.0001250000059371814.\n",
      "Epoch 20/20\n",
      "172/172 [==============================] - 29s 168ms/step - loss: 0.1707 - accuracy: 0.9420 - val_loss: 0.0189 - val_accuracy: 0.9980\n"
     ]
    }
   ],
   "source": [
    "history1 = model2.fit(train_datagen2.flow(X_train, Y_train, batch_size=128),\n",
    "                    epochs = 20,\n",
    "                    validation_data = valid_datagen2.flow(X_validate, Y_validate),\n",
    "                    callbacks = [lr_reduction])"
   ]
  },
  {
   "cell_type": "code",
   "execution_count": 30,
   "metadata": {},
   "outputs": [
    {
     "name": "stdout",
     "output_type": "stream",
     "text": [
      "94.07417735638595\n"
     ]
    }
   ],
   "source": [
    "pred2 = model2.predict(X_test)\n",
    "pred2 = np.argmax(pred2, axis=1)\n",
    "acc_score2 = accuracy_score(test_y, pred2)\n",
    "\n",
    "print(acc_score2*100)"
   ]
  },
  {
   "cell_type": "code",
   "execution_count": 27,
   "metadata": {},
   "outputs": [
    {
     "name": "stdout",
     "output_type": "stream",
     "text": [
      "ERROR! Session/line number was not unique in database. History logging moved to new session 345\n"
     ]
    },
    {
     "data": {
      "image/png": "[encoded data removed]",
      "text/plain": [
       "<Figure size 720x720 with 2 Axes>"
      ]
     },
     "metadata": {},
     "output_type": "display_data"
    }
   ],
   "source": [
    "acc1 = history1.history['accuracy']\n",
    "loss1 = history1.history['loss']\n",
    "val_acc1 = history1.history['val_accuracy']\n",
    "val_loss1 = history1.history['val_loss']\n",
    "\n",
    "epochs = range(len(acc1))\n",
    "\n",
    "plt.figure(figsize=(10,10))\n",
    "plt.subplot(2,2,1)\n",
    "plt.plot(epochs, acc1, label='Training Accuracy')\n",
    "plt.plot(epochs, val_acc1, label='Validation Accuracy')\n",
    "plt.legend(loc='lower right')\n",
    "plt.title('Training and Validation Accuracy')\n",
    "\n",
    "plt.subplot(2,2,2)\n",
    "plt.plot(epochs, loss1, label='Training Loss')\n",
    "plt.plot(epochs, val_loss1, label='Validation Loss')\n",
    "plt.legend(loc='upper right')\n",
    "plt.title('Training and Validation Loss')\n",
    "plt.show()"
   ]
  },
  {
   "cell_type": "code",
   "execution_count": 33,
   "metadata": {},
   "outputs": [
    {
     "name": "stdout",
     "output_type": "stream",
     "text": [
      "ERROR! Session/line number was not unique in database. History logging moved to new session 346\n",
      "              precision    recall  f1-score   support\n",
      "\n",
      "           A       0.95      1.00      0.97       331\n",
      "           B       1.00      0.92      0.96       432\n",
      "           C       0.99      1.00      0.99       310\n",
      "           D       1.00      0.99      1.00       245\n",
      "           E       0.96      0.96      0.96       498\n",
      "           F       1.00      1.00      1.00       247\n",
      "           G       1.00      0.84      0.92       348\n",
      "           H       0.98      1.00      0.99       436\n",
      "           I       0.95      0.99      0.97       288\n",
      "           K       0.99      0.94      0.97       331\n",
      "           L       1.00      0.99      1.00       209\n",
      "           M       0.97      0.98      0.98       394\n",
      "           N       1.00      0.86      0.92       291\n",
      "           O       0.95      0.99      0.97       246\n",
      "           P       1.00      0.61      0.76       347\n",
      "           Q       0.61      1.00      0.76       164\n",
      "           R       0.82      0.97      0.89       144\n",
      "           S       0.73      0.93      0.81       246\n",
      "           T       0.91      0.74      0.81       248\n",
      "           U       0.94      1.00      0.97       266\n",
      "           V       0.99      0.99      0.99       346\n",
      "           W       1.00      0.99      0.99       206\n",
      "           X       0.78      1.00      0.88       267\n",
      "           Y       1.00      0.97      0.98       332\n",
      "\n",
      "    accuracy                           0.94      7172\n",
      "   macro avg       0.94      0.94      0.93      7172\n",
      "weighted avg       0.95      0.94      0.94      7172\n",
      "\n"
     ]
    }
   ],
   "source": [
    "y_test_letters = [letters[x] for x in test_y]\n",
    "pred_letters = [letters[x] for x in pred2]\n",
    "\n",
    "print(classification_report(y_test_letters, pred_letters))"
   ]
  },
  {
   "cell_type": "code",
   "execution_count": null,
   "metadata": {},
   "outputs": [],
   "source": []
  }
 ],
 "metadata": {
  "kernelspec": {
   "display_name": "Python 3",
   "language": "python",
   "name": "python3"
  },
  "language_info": {
   "codemirror_mode": {
    "name": "ipython",
    "version": 3
   },
   "file_extension": ".py",
   "mimetype": "text/x-python",
   "name": "python",
   "nbconvert_exporter": "python",
   "pygments_lexer": "ipython3",
   "version": "3.6.13"
  }
 },
 "nbformat": 4,
 "nbformat_minor": 4
}
